{
  "nbformat": 4,
  "nbformat_minor": 0,
  "metadata": {
    "colab": {
      "name": "Deteccion de rostros.ipynb",
      "provenance": [],
      "collapsed_sections": [],
      "authorship_tag": "ABX9TyPSJc9HJkRyjVi+2LOjSR9C",
      "include_colab_link": true
    },
    "kernelspec": {
      "name": "python3",
      "display_name": "Python 3"
    }
  },
  "cells": [
    {
      "cell_type": "markdown",
      "metadata": {
        "id": "view-in-github",
        "colab_type": "text"
      },
      "source": [
        "<a href=\"https://colab.research.google.com/github/Edd20jortiz/Januery2021proyects/blob/main/Deteccion_de_rostros.ipynb\" target=\"_parent\"><img src=\"https://colab.research.google.com/assets/colab-badge.svg\" alt=\"Open In Colab\"/></a>"
      ]
    },
    {
      "cell_type": "markdown",
      "metadata": {
        "id": "-TT8e1c9ptKs"
      },
      "source": [
        "deteccion de rostros"
      ]
    },
    {
      "cell_type": "code",
      "metadata": {
        "id": "mnpRdPJQprc2"
      },
      "source": [
        "#face detection with mtcnn on a photograph\r\n",
        "!sudo pip  install mtcnn\r\n",
        "from matplotlib import pyplot\r\n",
        "from matplotlib.patches import Rectangle\r\n",
        "from mtcnn.mtcnn import MTCNN\r\n",
        "#load image from file\r\n",
        "pixels = pyplot.imread('visita.jpg')\r\n",
        "#create the detector, using default weights\r\n",
        "detector = MTCNN()\r\n",
        "#detect faces in the image\r\n",
        "faces = detector.detect_faces(pixels)\r\n",
        "#plot the image\r\n",
        "pyplot.imshow(pixels)\r\n",
        "#get the context for drawing boxes\r\n",
        "ax = pyplot.gca()\r\n",
        "#get coordinates from the first face\r\n",
        "x,y, widtth,height = faces[0]['box']\r\n",
        "#create the shape \r\n",
        "rect = Rectangle((x, y), width=90, height=90, fill=False, color='red')\r\n",
        "#draw the box\r\n",
        "ax.add_patch(rect)\r\n",
        "#show the plot\r\n",
        "pyplot.show()"
      ],
      "execution_count": null,
      "outputs": []
    }
  ]
}