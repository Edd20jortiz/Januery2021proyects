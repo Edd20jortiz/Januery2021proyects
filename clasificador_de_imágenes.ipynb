{
  "nbformat": 4,
  "nbformat_minor": 0,
  "metadata": {
    "colab": {
      "name": "clasificador de imágenes.ipynb",
      "provenance": [],
      "authorship_tag": "ABX9TyPlXGbRptxhJKPq98xRFMvR",
      "include_colab_link": true
    },
    "kernelspec": {
      "name": "python3",
      "display_name": "Python 3"
    }
  },
  "cells": [
    {
      "cell_type": "markdown",
      "metadata": {
        "id": "view-in-github",
        "colab_type": "text"
      },
      "source": [
        "<a href=\"https://colab.research.google.com/github/Edd20jortiz/Januery2021proyects/blob/main/clasificador_de_im%C3%A1genes.ipynb\" target=\"_parent\"><img src=\"https://colab.research.google.com/assets/colab-badge.svg\" alt=\"Open In Colab\"/></a>"
      ]
    },
    {
      "cell_type": "markdown",
      "metadata": {
        "id": "CcNWOzwEV4UD"
      },
      "source": [
        "1.importar las librerias\r\n"
      ]
    },
    {
      "cell_type": "code",
      "metadata": {
        "id": "DCTO7mN6VIT2"
      },
      "source": [
        "from keras.preprocessing.image import load_img\r\n",
        "from keras.preprocessing.image import img_to_array\r\n",
        "from keras.applications.vgg16 import preprocess_input\r\n",
        "from keras.applications.vgg16 import decode_predictions\r\n",
        "from keras.applications.vgg16 import VGG16"
      ],
      "execution_count": null,
      "outputs": []
    },
    {
      "cell_type": "markdown",
      "metadata": {
        "id": "cwxlVV0qWEyg"
      },
      "source": [
        "2.cargar la imagen"
      ]
    },
    {
      "cell_type": "code",
      "metadata": {
        "id": "L3_XM3lbV3ZH"
      },
      "source": [
        "image = load_img('dog.jpg', target_size= (224,224))\r\n",
        "image = img_to_array(image)\r\n",
        "image = image.reshape((1,image.shape[0], image.shape[1], image.shape[2]))"
      ],
      "execution_count": null,
      "outputs": []
    },
    {
      "cell_type": "markdown",
      "metadata": {
        "id": "0v1dGyICXhsp"
      },
      "source": [
        "3.preparar imagen"
      ]
    },
    {
      "cell_type": "code",
      "metadata": {
        "id": "JQBLR5dBXg1Z"
      },
      "source": [
        "image = preprocess_input(image)\r\n",
        "model = VGG16()\r\n",
        "yhat = model.predict(image)\r\n",
        "label = decode_predictions(yhat)\r\n",
        "label = label[0][0]\r\n",
        "print('%s (%.2f%%)' % (label[1], label[2]*100))"
      ],
      "execution_count": null,
      "outputs": []
    }
  ]
}